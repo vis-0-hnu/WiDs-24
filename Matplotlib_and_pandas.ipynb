{
  "nbformat": 4,
  "nbformat_minor": 0,
  "metadata": {
    "colab": {
      "provenance": []
    },
    "kernelspec": {
      "name": "python3",
      "display_name": "Python 3"
    },
    "language_info": {
      "name": "python"
    }
  },
  "cells": [
    {
      "cell_type": "markdown",
      "source": [
        "#Exploring Data Visualization with Matplotlib in Google Colab\n",
        "\n",
        "Welcome to this hands-on exercise on data visualization using Matplotlib in Google Colab! Matplotlib is a powerful and widely used library for creating static, animated, and interactive visualizations in Python.\n",
        "\n",
        "Upload the company_sales_data.csv given in the Github repo to your gdrive and mount your google drive for the following exercises. Read this file using Pandas or NumPy or using in-built matplotlib function."
      ],
      "metadata": {
        "id": "1e7-YENWfruA"
      }
    },
    {
      "cell_type": "code",
      "source": [
        "from google.colab import drive\n",
        "drive.mount('/content/drive')\n",
        "file_path = '/content/drive/My Drive/wids/company_sales_data.csv'\n",
        "import numpy as np\n",
        "import matplotlib.pyplot as plt\n",
        "import pandas as pd"
      ],
      "metadata": {
        "id": "3mce9alwf6_s"
      },
      "execution_count": null,
      "outputs": []
    },
    {
      "cell_type": "markdown",
      "source": [
        "Exercise 1: Read Total profit of all months and show it using a line plot\n",
        "Total profit data provided for each month. Generated line plot must include the following properties: –\n",
        "\n",
        "Line Style dotted and Line-color should be red  \n",
        "Show legend at the lower right location.  \n",
        "X label name = Month Number  \n",
        "Y label name = Profit in dollar  \n",
        "Add a circle marker.  \n",
        "Line marker color as read  \n",
        "Line width should be 3  "
      ],
      "metadata": {
        "id": "CnP0p2G-evKz"
      }
    },
    {
      "cell_type": "code",
      "execution_count": null,
      "metadata": {
        "id": "fxHeVHtaejsL"
      },
      "outputs": [],
      "source": [
        "data=pd.read_csv(file_path)\n",
        "month=data['month_number']\n",
        "total=data['total_profit']\n",
        "plt.figure()\n",
        "plt.plot(month, total, marker='o', ls=':', color='red', linewidth=3)\n",
        "plt.legend(loc='lower right')\n",
        "plt.xlabel('Month Number')\n",
        "plt.ylabel('Profit in dollar')\n",
        "plt.show()"
      ]
    },
    {
      "cell_type": "markdown",
      "source": [
        "Exercise 2: Read all product sales data and show it  using a multiline plot.\n",
        " Display the number of units sold per month for each product using multiline plots. (i.e., Separate Plotline and different color for each product )."
      ],
      "metadata": {
        "id": "ILCkGHzce2Aj"
      }
    },
    {
      "cell_type": "code",
      "source": [
        "month=data['month_number']\n",
        "fc=data['facecream']\n",
        "fw=data['facewash']\n",
        "tp=data['toothpaste']\n",
        "bs=data['bathingsoap']\n",
        "s=data['shampoo']\n",
        "m=data['moisturizer']\n",
        "plt.figure()\n",
        "plt.subplot(3,2,1)\n",
        "plt.plot(month,fc, color='red')\n",
        "plt.subplot(3,2,2)\n",
        "plt.plot(month,fw, color='blue')\n",
        "plt.subplot(3,2,3)\n",
        "plt.plot(month,tp, color='green')\n",
        "plt.subplot(3,2,4)\n",
        "plt.plot(month,bs, color='yellow')\n",
        "plt.subplot(3,2,5)\n",
        "plt.plot(month,s, color='black')\n",
        "plt.subplot(3,2,6)\n",
        "plt.plot(month,m, color='orange')\n",
        "plt.xlabel('Month Number')\n",
        "plt.ylabel('Sales in unit')\n",
        "plt.show()"
      ],
      "metadata": {
        "id": "uYkBIax0fPfv"
      },
      "execution_count": null,
      "outputs": []
    },
    {
      "cell_type": "markdown",
      "source": [
        "Exercise 3: Calculate total sale data for last year for each product and show it using a Pie chart  \n",
        "Note: In Pie chart display Number of units sold per year for each product in percentage.\n"
      ],
      "metadata": {
        "id": "ZS1DIXivfRKE"
      }
    },
    {
      "cell_type": "code",
      "source": [
        "month=data['month_number']\n",
        "fc=data['facecream']\n",
        "fw=data['facewash']\n",
        "tp=data['toothpaste']\n",
        "bs=data['bathingsoap']\n",
        "s=data['shampoo']\n",
        "m=data['moisturizer']\n",
       
        "empty=np.zeros(6)\n",
        "for j in range(4):\n",
          " empty[0]+=fc.iloc[j]\n",
          " empty[1]+=fw.iloc[j]\n",
          " empty[2]+=tp.iloc[j]\n",
          " empty[3]+=bs.iloc[j]\n",
          " empty[4]+=s.iloc[j]\n",
          " empty[5]+=m.iloc[j]\n",
        "plt.figure()\n",
        "plt.pie(empty,labels=["Facecream","Facewash","Toothpaste","Bathingsoap","Shampoo","Moisturizer"])\n",
        "plt.show()"
      ],
      "metadata": {
        "id": "qi30DsdOffd9"
      },
      "execution_count": null,
      "outputs": []
    }
  ]
}
