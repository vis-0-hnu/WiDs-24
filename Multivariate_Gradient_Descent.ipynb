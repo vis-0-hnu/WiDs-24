{
  "nbformat": 4,
  "nbformat_minor": 0,
  "metadata": {
    "colab": {
      "provenance": []
    },
    "kernelspec": {
      "name": "python3",
      "display_name": "Python 3"
    },
    "language_info": {
      "name": "python"
    }
  },
  "cells": [
    {
      "cell_type": "markdown",
      "source": [
        "In this part of the assignment you have to implement multivariate gradient descent to find the minimas (local and global) of the given function:\n",
        "Note : you can find different minimas by changing your initialisation.  \n",
        "$f(x) = x^4 + x^2y^2 - y^2 + y^4 + 6$"
      ],
      "metadata": {
        "id": "n_ZwYtYkkhMw"
      }
    },
    {
      "cell_type": "code",
      "execution_count": null,
      "metadata": {
        "id": "AGC301Ynkcth"
      },
      "outputs": [],
      "source": [
        "#start your code here :)"
      ]
    }
  ]
}